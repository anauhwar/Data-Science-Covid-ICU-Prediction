{
 "cells": [
  {
   "cell_type": "code",
   "execution_count": 1,
   "metadata": {},
   "outputs": [],
   "source": [
    "import pandas as pd\n",
    "import numpy as np\n",
    "import warnings\n",
    "\n",
    "from sklearn.preprocessing import StandardScaler\n",
    "from imblearn.over_sampling import SMOTE\n",
    "from sklearn.model_selection import train_test_split\n",
    "from sklearn.metrics import accuracy_score, confusion_matrix, classification_report\n",
    "from sklearn.ensemble import RandomForestClassifier\n",
    "from sklearn.svm import SVC\n",
    "from sklearn.neighbors import KNeighborsClassifier\n",
    "from sklearn.ensemble import GradientBoostingClassifier\n",
    "from sklearn.ensemble import AdaBoostClassifier\n",
    "from sklearn.tree import DecisionTreeClassifier\n",
    "from xgboost import XGBClassifier\n",
    "\n",
    "pd.set_option('display.max_columns', None)\n",
    "warnings.filterwarnings('ignore')"
   ]
  },
  {
   "cell_type": "code",
   "execution_count": 2,
   "metadata": {},
   "outputs": [],
   "source": [
    "''' reading data '''\n",
    "df = pd.read_csv('covid.csv', parse_dates=[3, 4])"
   ]
  },
  {
   "cell_type": "code",
   "execution_count": 3,
   "metadata": {},
   "outputs": [
    {
     "data": {
      "text/html": [
       "<div>\n",
       "<style scoped>\n",
       "    .dataframe tbody tr th:only-of-type {\n",
       "        vertical-align: middle;\n",
       "    }\n",
       "\n",
       "    .dataframe tbody tr th {\n",
       "        vertical-align: top;\n",
       "    }\n",
       "\n",
       "    .dataframe thead th {\n",
       "        text-align: right;\n",
       "    }\n",
       "</style>\n",
       "<table border=\"1\" class=\"dataframe\">\n",
       "  <thead>\n",
       "    <tr style=\"text-align: right;\">\n",
       "      <th></th>\n",
       "      <th>id</th>\n",
       "      <th>sex</th>\n",
       "      <th>patient_type</th>\n",
       "      <th>entry_date</th>\n",
       "      <th>date_symptoms</th>\n",
       "      <th>date_died</th>\n",
       "      <th>intubed</th>\n",
       "      <th>pneumonia</th>\n",
       "      <th>age</th>\n",
       "      <th>pregnancy</th>\n",
       "      <th>diabetes</th>\n",
       "      <th>copd</th>\n",
       "      <th>asthma</th>\n",
       "      <th>inmsupr</th>\n",
       "      <th>hypertension</th>\n",
       "      <th>other_disease</th>\n",
       "      <th>cardiovascular</th>\n",
       "      <th>obesity</th>\n",
       "      <th>renal_chronic</th>\n",
       "      <th>tobacco</th>\n",
       "      <th>contact_other_covid</th>\n",
       "      <th>covid_res</th>\n",
       "      <th>icu</th>\n",
       "    </tr>\n",
       "  </thead>\n",
       "  <tbody>\n",
       "    <tr>\n",
       "      <th>0</th>\n",
       "      <td>16169f</td>\n",
       "      <td>2</td>\n",
       "      <td>1</td>\n",
       "      <td>2020-04-05</td>\n",
       "      <td>2020-02-05</td>\n",
       "      <td>9999-99-99</td>\n",
       "      <td>97</td>\n",
       "      <td>2</td>\n",
       "      <td>27</td>\n",
       "      <td>97</td>\n",
       "      <td>2</td>\n",
       "      <td>2</td>\n",
       "      <td>2</td>\n",
       "      <td>2</td>\n",
       "      <td>2</td>\n",
       "      <td>2</td>\n",
       "      <td>2</td>\n",
       "      <td>2</td>\n",
       "      <td>2</td>\n",
       "      <td>2</td>\n",
       "      <td>2</td>\n",
       "      <td>1</td>\n",
       "      <td>97</td>\n",
       "    </tr>\n",
       "    <tr>\n",
       "      <th>1</th>\n",
       "      <td>1009bf</td>\n",
       "      <td>2</td>\n",
       "      <td>1</td>\n",
       "      <td>2020-03-19</td>\n",
       "      <td>2020-03-17</td>\n",
       "      <td>9999-99-99</td>\n",
       "      <td>97</td>\n",
       "      <td>2</td>\n",
       "      <td>24</td>\n",
       "      <td>97</td>\n",
       "      <td>2</td>\n",
       "      <td>2</td>\n",
       "      <td>2</td>\n",
       "      <td>2</td>\n",
       "      <td>2</td>\n",
       "      <td>2</td>\n",
       "      <td>2</td>\n",
       "      <td>2</td>\n",
       "      <td>2</td>\n",
       "      <td>2</td>\n",
       "      <td>99</td>\n",
       "      <td>1</td>\n",
       "      <td>97</td>\n",
       "    </tr>\n",
       "    <tr>\n",
       "      <th>2</th>\n",
       "      <td>167386</td>\n",
       "      <td>1</td>\n",
       "      <td>2</td>\n",
       "      <td>2020-06-04</td>\n",
       "      <td>2020-01-04</td>\n",
       "      <td>9999-99-99</td>\n",
       "      <td>2</td>\n",
       "      <td>2</td>\n",
       "      <td>54</td>\n",
       "      <td>2</td>\n",
       "      <td>2</td>\n",
       "      <td>2</td>\n",
       "      <td>2</td>\n",
       "      <td>2</td>\n",
       "      <td>2</td>\n",
       "      <td>2</td>\n",
       "      <td>2</td>\n",
       "      <td>1</td>\n",
       "      <td>2</td>\n",
       "      <td>2</td>\n",
       "      <td>99</td>\n",
       "      <td>1</td>\n",
       "      <td>2</td>\n",
       "    </tr>\n",
       "    <tr>\n",
       "      <th>3</th>\n",
       "      <td>0b5948</td>\n",
       "      <td>2</td>\n",
       "      <td>2</td>\n",
       "      <td>2020-04-17</td>\n",
       "      <td>2020-10-04</td>\n",
       "      <td>9999-99-99</td>\n",
       "      <td>2</td>\n",
       "      <td>1</td>\n",
       "      <td>30</td>\n",
       "      <td>97</td>\n",
       "      <td>2</td>\n",
       "      <td>2</td>\n",
       "      <td>2</td>\n",
       "      <td>2</td>\n",
       "      <td>2</td>\n",
       "      <td>2</td>\n",
       "      <td>2</td>\n",
       "      <td>2</td>\n",
       "      <td>2</td>\n",
       "      <td>2</td>\n",
       "      <td>99</td>\n",
       "      <td>1</td>\n",
       "      <td>2</td>\n",
       "    </tr>\n",
       "    <tr>\n",
       "      <th>4</th>\n",
       "      <td>0d01b5</td>\n",
       "      <td>1</td>\n",
       "      <td>2</td>\n",
       "      <td>2020-04-13</td>\n",
       "      <td>2020-04-13</td>\n",
       "      <td>22-04-2020</td>\n",
       "      <td>2</td>\n",
       "      <td>2</td>\n",
       "      <td>60</td>\n",
       "      <td>2</td>\n",
       "      <td>1</td>\n",
       "      <td>2</td>\n",
       "      <td>2</td>\n",
       "      <td>2</td>\n",
       "      <td>1</td>\n",
       "      <td>2</td>\n",
       "      <td>1</td>\n",
       "      <td>2</td>\n",
       "      <td>2</td>\n",
       "      <td>2</td>\n",
       "      <td>99</td>\n",
       "      <td>1</td>\n",
       "      <td>2</td>\n",
       "    </tr>\n",
       "  </tbody>\n",
       "</table>\n",
       "</div>"
      ],
      "text/plain": [
       "       id  sex  patient_type entry_date date_symptoms   date_died  intubed  \\\n",
       "0  16169f    2             1 2020-04-05    2020-02-05  9999-99-99       97   \n",
       "1  1009bf    2             1 2020-03-19    2020-03-17  9999-99-99       97   \n",
       "2  167386    1             2 2020-06-04    2020-01-04  9999-99-99        2   \n",
       "3  0b5948    2             2 2020-04-17    2020-10-04  9999-99-99        2   \n",
       "4  0d01b5    1             2 2020-04-13    2020-04-13  22-04-2020        2   \n",
       "\n",
       "   pneumonia  age  pregnancy  diabetes  copd  asthma  inmsupr  hypertension  \\\n",
       "0          2   27         97         2     2       2        2             2   \n",
       "1          2   24         97         2     2       2        2             2   \n",
       "2          2   54          2         2     2       2        2             2   \n",
       "3          1   30         97         2     2       2        2             2   \n",
       "4          2   60          2         1     2       2        2             1   \n",
       "\n",
       "   other_disease  cardiovascular  obesity  renal_chronic  tobacco  \\\n",
       "0              2               2        2              2        2   \n",
       "1              2               2        2              2        2   \n",
       "2              2               2        1              2        2   \n",
       "3              2               2        2              2        2   \n",
       "4              2               1        2              2        2   \n",
       "\n",
       "   contact_other_covid  covid_res  icu  \n",
       "0                    2          1   97  \n",
       "1                   99          1   97  \n",
       "2                   99          1    2  \n",
       "3                   99          1    2  \n",
       "4                   99          1    2  "
      ]
     },
     "execution_count": 3,
     "metadata": {},
     "output_type": "execute_result"
    }
   ],
   "source": [
    "''' displaying first 5 rows of data '''\n",
    "df.head()"
   ]
  },
  {
   "cell_type": "code",
   "execution_count": 4,
   "metadata": {},
   "outputs": [
    {
     "data": {
      "text/plain": [
       "(566602, 23)"
      ]
     },
     "execution_count": 4,
     "metadata": {},
     "output_type": "execute_result"
    }
   ],
   "source": [
    "''' shape of data '''\n",
    "df.shape"
   ]
  },
  {
   "cell_type": "code",
   "execution_count": 5,
   "metadata": {},
   "outputs": [
    {
     "data": {
      "text/plain": [
       "id                     0\n",
       "sex                    0\n",
       "patient_type           0\n",
       "entry_date             0\n",
       "date_symptoms          0\n",
       "date_died              0\n",
       "intubed                0\n",
       "pneumonia              0\n",
       "age                    0\n",
       "pregnancy              0\n",
       "diabetes               0\n",
       "copd                   0\n",
       "asthma                 0\n",
       "inmsupr                0\n",
       "hypertension           0\n",
       "other_disease          0\n",
       "cardiovascular         0\n",
       "obesity                0\n",
       "renal_chronic          0\n",
       "tobacco                0\n",
       "contact_other_covid    0\n",
       "covid_res              0\n",
       "icu                    0\n",
       "dtype: int64"
      ]
     },
     "execution_count": 5,
     "metadata": {},
     "output_type": "execute_result"
    }
   ],
   "source": [
    "''' checking null valeus '''\n",
    "df.isnull().sum()"
   ]
  },
  {
   "cell_type": "code",
   "execution_count": 6,
   "metadata": {},
   "outputs": [],
   "source": [
    "''' dropping unwanted rows '''\n",
    "\n",
    "df.drop(['id','patient_type','pregnancy','contact_other_covid','other_disease'],inplace=True,axis=1)"
   ]
  },
  {
   "cell_type": "code",
   "execution_count": 7,
   "metadata": {},
   "outputs": [],
   "source": [
    "''' creating new column '''\n",
    "\n",
    "df['new_column'] = (df['entry_date'] - df['date_symptoms']).dt.days\n",
    "df['dead']='1'\n",
    "df.loc[df['date_died'] == '9999-99-99','dead']='0'\n",
    "\n",
    "''' dropping columns '''\n",
    "df.drop(['entry_date','date_symptoms','date_died'],inplace=True,axis=1)\n",
    "\n",
    "''' changing datatype '''\n",
    "df = df.astype('int8')"
   ]
  },
  {
   "cell_type": "code",
   "execution_count": 8,
   "metadata": {},
   "outputs": [],
   "source": [
    "''' dropping null values '''\n",
    "\n",
    "df = df.loc[(df['sex'] <= 2) & (df['intubed'] <= 2) & (df['pneumonia'] <= 2) & (df['diabetes'] <= 2) & \n",
    "            (df['copd'] <= 2) & (df['asthma'] <= 2) & (df['inmsupr'] <= 2) & (df['hypertension'] <= 2) & \n",
    "            (df['cardiovascular'] <= 2) & (df['obesity'] <= 2) & (df['renal_chronic'] <= 2) & (df['tobacco'] <= 2) &\n",
    "            (df['covid_res'] <= 2) & (df['dead'] <= 2) & (df['icu'] <= 2) & (df['new_column'] >= 0), \n",
    "            ['sex','age','inmsupr','pneumonia','diabetes','asthma','copd','hypertension','cardiovascular',\n",
    "             'renal_chronic','obesity','tobacco','new_column','covid_res','intubed','icu','dead']]"
   ]
  },
  {
   "cell_type": "code",
   "execution_count": 9,
   "metadata": {},
   "outputs": [],
   "source": [
    "''' changing values of NO from  2 to 0'''\n",
    "\n",
    "df.loc[df['sex']==2,'sex']=0\n",
    "\n",
    "df.loc[df['inmsupr']==2,'inmsupr']=0\n",
    "\n",
    "df.loc[df['pneumonia']==2,'pneumonia']=0\n",
    "\n",
    "df.loc[df['diabetes']==2,'diabetes']=0\n",
    "\n",
    "df.loc[df['asthma']==2,'asthma']=0\n",
    "\n",
    "df.loc[df['copd']==2,'copd']=0\n",
    "\n",
    "df.loc[df['hypertension']==2,'hypertension']=0\n",
    "\n",
    "df.loc[df['cardiovascular']==2,'cardiovascular']=0\n",
    "\n",
    "df.loc[df['renal_chronic']==2,'renal_chronic']=0\n",
    "\n",
    "df.loc[df['obesity']==2,'obesity']=0\n",
    "\n",
    "df.loc[df['tobacco']==2,'tobacco']=0\n",
    "\n",
    "df.loc[df['intubed']==2,'intubed']=0\n",
    "\n",
    "df.loc[df['icu']==2,'icu']=0\n",
    "\n",
    "df.loc[df['covid_res']==2,'covid_res']=0"
   ]
  },
  {
   "cell_type": "code",
   "execution_count": 10,
   "metadata": {},
   "outputs": [
    {
     "data": {
      "text/html": [
       "<div>\n",
       "<style scoped>\n",
       "    .dataframe tbody tr th:only-of-type {\n",
       "        vertical-align: middle;\n",
       "    }\n",
       "\n",
       "    .dataframe tbody tr th {\n",
       "        vertical-align: top;\n",
       "    }\n",
       "\n",
       "    .dataframe thead th {\n",
       "        text-align: right;\n",
       "    }\n",
       "</style>\n",
       "<table border=\"1\" class=\"dataframe\">\n",
       "  <thead>\n",
       "    <tr style=\"text-align: right;\">\n",
       "      <th></th>\n",
       "      <th>sex</th>\n",
       "      <th>age</th>\n",
       "      <th>inmsupr</th>\n",
       "      <th>pneumonia</th>\n",
       "      <th>diabetes</th>\n",
       "      <th>asthma</th>\n",
       "      <th>copd</th>\n",
       "      <th>hypertension</th>\n",
       "      <th>cardiovascular</th>\n",
       "      <th>renal_chronic</th>\n",
       "      <th>obesity</th>\n",
       "      <th>tobacco</th>\n",
       "      <th>new_column</th>\n",
       "      <th>covid_res</th>\n",
       "      <th>intubed</th>\n",
       "      <th>icu</th>\n",
       "      <th>dead</th>\n",
       "    </tr>\n",
       "  </thead>\n",
       "  <tbody>\n",
       "    <tr>\n",
       "      <th>3</th>\n",
       "      <td>0</td>\n",
       "      <td>30</td>\n",
       "      <td>0</td>\n",
       "      <td>1</td>\n",
       "      <td>0</td>\n",
       "      <td>0</td>\n",
       "      <td>0</td>\n",
       "      <td>0</td>\n",
       "      <td>0</td>\n",
       "      <td>0</td>\n",
       "      <td>0</td>\n",
       "      <td>0</td>\n",
       "      <td>86</td>\n",
       "      <td>1</td>\n",
       "      <td>0</td>\n",
       "      <td>0</td>\n",
       "      <td>0</td>\n",
       "    </tr>\n",
       "    <tr>\n",
       "      <th>4</th>\n",
       "      <td>1</td>\n",
       "      <td>60</td>\n",
       "      <td>0</td>\n",
       "      <td>0</td>\n",
       "      <td>1</td>\n",
       "      <td>0</td>\n",
       "      <td>0</td>\n",
       "      <td>1</td>\n",
       "      <td>1</td>\n",
       "      <td>0</td>\n",
       "      <td>0</td>\n",
       "      <td>0</td>\n",
       "      <td>0</td>\n",
       "      <td>1</td>\n",
       "      <td>0</td>\n",
       "      <td>0</td>\n",
       "      <td>1</td>\n",
       "    </tr>\n",
       "    <tr>\n",
       "      <th>5</th>\n",
       "      <td>0</td>\n",
       "      <td>47</td>\n",
       "      <td>0</td>\n",
       "      <td>1</td>\n",
       "      <td>1</td>\n",
       "      <td>0</td>\n",
       "      <td>0</td>\n",
       "      <td>0</td>\n",
       "      <td>0</td>\n",
       "      <td>0</td>\n",
       "      <td>0</td>\n",
       "      <td>0</td>\n",
       "      <td>0</td>\n",
       "      <td>1</td>\n",
       "      <td>0</td>\n",
       "      <td>1</td>\n",
       "      <td>1</td>\n",
       "    </tr>\n",
       "    <tr>\n",
       "      <th>6</th>\n",
       "      <td>0</td>\n",
       "      <td>63</td>\n",
       "      <td>0</td>\n",
       "      <td>0</td>\n",
       "      <td>0</td>\n",
       "      <td>0</td>\n",
       "      <td>0</td>\n",
       "      <td>1</td>\n",
       "      <td>0</td>\n",
       "      <td>0</td>\n",
       "      <td>0</td>\n",
       "      <td>0</td>\n",
       "      <td>9</td>\n",
       "      <td>1</td>\n",
       "      <td>0</td>\n",
       "      <td>0</td>\n",
       "      <td>0</td>\n",
       "    </tr>\n",
       "    <tr>\n",
       "      <th>9</th>\n",
       "      <td>1</td>\n",
       "      <td>39</td>\n",
       "      <td>0</td>\n",
       "      <td>1</td>\n",
       "      <td>0</td>\n",
       "      <td>0</td>\n",
       "      <td>0</td>\n",
       "      <td>0</td>\n",
       "      <td>0</td>\n",
       "      <td>0</td>\n",
       "      <td>1</td>\n",
       "      <td>0</td>\n",
       "      <td>5</td>\n",
       "      <td>1</td>\n",
       "      <td>1</td>\n",
       "      <td>0</td>\n",
       "      <td>0</td>\n",
       "    </tr>\n",
       "  </tbody>\n",
       "</table>\n",
       "</div>"
      ],
      "text/plain": [
       "   sex  age  inmsupr  pneumonia  diabetes  asthma  copd  hypertension  \\\n",
       "3    0   30        0          1         0       0     0             0   \n",
       "4    1   60        0          0         1       0     0             1   \n",
       "5    0   47        0          1         1       0     0             0   \n",
       "6    0   63        0          0         0       0     0             1   \n",
       "9    1   39        0          1         0       0     0             0   \n",
       "\n",
       "   cardiovascular  renal_chronic  obesity  tobacco  new_column  covid_res  \\\n",
       "3               0              0        0        0          86          1   \n",
       "4               1              0        0        0           0          1   \n",
       "5               0              0        0        0           0          1   \n",
       "6               0              0        0        0           9          1   \n",
       "9               0              0        1        0           5          1   \n",
       "\n",
       "   intubed  icu  dead  \n",
       "3        0    0     0  \n",
       "4        0    0     1  \n",
       "5        0    1     1  \n",
       "6        0    0     0  \n",
       "9        1    0     0  "
      ]
     },
     "execution_count": 10,
     "metadata": {},
     "output_type": "execute_result"
    }
   ],
   "source": [
    "''' new df looks like '''\n",
    "df.head()"
   ]
  },
  {
   "cell_type": "code",
   "execution_count": 11,
   "metadata": {},
   "outputs": [],
   "source": [
    "''' considering only patients who are tested positive to covid '''\n",
    "df = df.loc[df['covid_res'] == 1, ['sex','age','inmsupr','pneumonia','diabetes','asthma','copd','hypertension',\n",
    "                                   'cardiovascular','renal_chronic','obesity','tobacco','new_column',\n",
    "                                   'covid_res','intubed','icu','dead']]"
   ]
  },
  {
   "cell_type": "code",
   "execution_count": 12,
   "metadata": {},
   "outputs": [],
   "source": [
    "''' independent and dependent features '''\n",
    "X = df.drop(['icu','covid_res','dead','intubed'], axis=1)\n",
    "y = df['icu']"
   ]
  },
  {
   "cell_type": "code",
   "execution_count": 13,
   "metadata": {},
   "outputs": [
    {
     "data": {
      "text/plain": [
       "0    49279\n",
       "1     4276\n",
       "Name: icu, dtype: int64"
      ]
     },
     "execution_count": 13,
     "metadata": {},
     "output_type": "execute_result"
    }
   ],
   "source": [
    "''' value counts of y '''\n",
    "y.value_counts()"
   ]
  },
  {
   "cell_type": "code",
   "execution_count": 14,
   "metadata": {},
   "outputs": [],
   "source": [
    "''' SMOTE to overcome the situation of imbalanced data '''\n",
    "smote = SMOTE(random_state=42)\n",
    "\n",
    "''' fit on X and y'''\n",
    "X_smote, y_smote = smote.fit_resample(X, y)"
   ]
  },
  {
   "cell_type": "code",
   "execution_count": 15,
   "metadata": {},
   "outputs": [
    {
     "data": {
      "text/plain": [
       "0    49279\n",
       "1    49279\n",
       "Name: icu, dtype: int64"
      ]
     },
     "execution_count": 15,
     "metadata": {},
     "output_type": "execute_result"
    }
   ],
   "source": [
    "''' again value counts of y '''\n",
    "y_smote.value_counts()"
   ]
  },
  {
   "cell_type": "code",
   "execution_count": 16,
   "metadata": {},
   "outputs": [],
   "source": [
    "''' train test split '''\n",
    "X_train, X_test, y_train, y_test = train_test_split(X_smote, y_smote, test_size=0.25, random_state=0)"
   ]
  },
  {
   "cell_type": "code",
   "execution_count": 17,
   "metadata": {},
   "outputs": [
    {
     "name": "stdout",
     "output_type": "stream",
     "text": [
      "X_train shape:  (73918, 13)\n",
      "X_test shape:  (24640, 13)\n"
     ]
    }
   ],
   "source": [
    "print('X_train shape: ', X_train.shape)\n",
    "print('X_test shape: ', X_test.shape)"
   ]
  },
  {
   "cell_type": "code",
   "execution_count": 18,
   "metadata": {},
   "outputs": [],
   "source": [
    "def evaluation_fun():\n",
    "    print(\"train Accuracy = {}\".format(accuracy_score(y_train, model.predict(X_train))))\n",
    "    print(\"test Accuracy = {}\".format(accuracy_score(y_test, results)))\n",
    "    print(\"Confusion Matrix\")\n",
    "    print(confusion_matrix(y_test, results))\n",
    "    print(\"Classification Report\")\n",
    "    print(classification_report(y_test, results))"
   ]
  },
  {
   "cell_type": "code",
   "execution_count": 19,
   "metadata": {},
   "outputs": [],
   "source": [
    "''' Random Forest '''\n",
    "model = RandomForestClassifier()\n",
    "\n",
    "''' fit on data '''\n",
    "model.fit(X_train, y_train)\n",
    "\n",
    "''' prediction '''\n",
    "results = model.predict(X_test)"
   ]
  },
  {
   "cell_type": "code",
   "execution_count": 20,
   "metadata": {},
   "outputs": [
    {
     "name": "stdout",
     "output_type": "stream",
     "text": [
      "train Accuracy = 0.8967369247003436\n",
      "test Accuracy = 0.8339285714285715\n",
      "Confusion Matrix\n",
      "[[ 9425  2794]\n",
      " [ 1298 11123]]\n",
      "Classification Report\n",
      "              precision    recall  f1-score   support\n",
      "\n",
      "           0       0.88      0.77      0.82     12219\n",
      "           1       0.80      0.90      0.84     12421\n",
      "\n",
      "    accuracy                           0.83     24640\n",
      "   macro avg       0.84      0.83      0.83     24640\n",
      "weighted avg       0.84      0.83      0.83     24640\n",
      "\n"
     ]
    }
   ],
   "source": [
    "''' results of rf '''\n",
    "evaluation_fun()"
   ]
  },
  {
   "cell_type": "code",
   "execution_count": 21,
   "metadata": {},
   "outputs": [],
   "source": [
    "''' xgboost '''\n",
    "model = XGBClassifier()\n",
    "\n",
    "''' fit on data '''\n",
    "model.fit(X_train, y_train)\n",
    "\n",
    "''' prediction '''\n",
    "results = model.predict(X_test)"
   ]
  },
  {
   "cell_type": "code",
   "execution_count": 22,
   "metadata": {},
   "outputs": [
    {
     "name": "stdout",
     "output_type": "stream",
     "text": [
      "train Accuracy = 0.7664168402824751\n",
      "test Accuracy = 0.7485795454545454\n",
      "Confusion Matrix\n",
      "[[8535 3684]\n",
      " [2511 9910]]\n",
      "Classification Report\n",
      "              precision    recall  f1-score   support\n",
      "\n",
      "           0       0.77      0.70      0.73     12219\n",
      "           1       0.73      0.80      0.76     12421\n",
      "\n",
      "    accuracy                           0.75     24640\n",
      "   macro avg       0.75      0.75      0.75     24640\n",
      "weighted avg       0.75      0.75      0.75     24640\n",
      "\n"
     ]
    }
   ],
   "source": [
    "evaluation_fun()"
   ]
  },
  {
   "cell_type": "code",
   "execution_count": 23,
   "metadata": {},
   "outputs": [],
   "source": [
    "''' KNN without hyperparameter tunning '''\n",
    "model = KNeighborsClassifier()\n",
    "\n",
    "''' fit on data '''\n",
    "model.fit(X_train, y_train)\n",
    "\n",
    "''' prediction '''\n",
    "results = model.predict(X_test)"
   ]
  },
  {
   "cell_type": "code",
   "execution_count": 24,
   "metadata": {},
   "outputs": [
    {
     "name": "stdout",
     "output_type": "stream",
     "text": [
      "train Accuracy = 0.8213696258015639\n",
      "test Accuracy = 0.7646915584415584\n",
      "Confusion Matrix\n",
      "[[ 7764  4455]\n",
      " [ 1343 11078]]\n",
      "Classification Report\n",
      "              precision    recall  f1-score   support\n",
      "\n",
      "           0       0.85      0.64      0.73     12219\n",
      "           1       0.71      0.89      0.79     12421\n",
      "\n",
      "    accuracy                           0.76     24640\n",
      "   macro avg       0.78      0.76      0.76     24640\n",
      "weighted avg       0.78      0.76      0.76     24640\n",
      "\n"
     ]
    }
   ],
   "source": [
    "evaluation_fun()"
   ]
  },
  {
   "cell_type": "code",
   "execution_count": 25,
   "metadata": {},
   "outputs": [],
   "source": [
    "''' ADA BOOST without hyper parameter tunning'''\n",
    "model = AdaBoostClassifier()\n",
    "\n",
    "''' fit on data '''\n",
    "model.fit(X_train, y_train)\n",
    "\n",
    "''' prediction '''\n",
    "results = model.predict(X_test)"
   ]
  },
  {
   "cell_type": "code",
   "execution_count": 26,
   "metadata": {},
   "outputs": [
    {
     "name": "stdout",
     "output_type": "stream",
     "text": [
      "train Accuracy = 0.6867880624475771\n",
      "test Accuracy = 0.6890016233766234\n",
      "Confusion Matrix\n",
      "[[7976 4243]\n",
      " [3420 9001]]\n",
      "Classification Report\n",
      "              precision    recall  f1-score   support\n",
      "\n",
      "           0       0.70      0.65      0.68     12219\n",
      "           1       0.68      0.72      0.70     12421\n",
      "\n",
      "    accuracy                           0.69     24640\n",
      "   macro avg       0.69      0.69      0.69     24640\n",
      "weighted avg       0.69      0.69      0.69     24640\n",
      "\n"
     ]
    }
   ],
   "source": [
    "evaluation_fun()"
   ]
  },
  {
   "cell_type": "code",
   "execution_count": 27,
   "metadata": {},
   "outputs": [],
   "source": [
    "''' Gradient Boost with hyperparameter tunnig '''\n",
    "model = GradientBoostingClassifier(max_features='auto', loss='deviance',learning_rate=0.3, \n",
    "                                   max_depth=8,min_samples_leaf=3,min_samples_split=0.1, n_estimators=400, subsample=0.4)\n",
    "\n",
    "''' fit on data '''\n",
    "model.fit(X_train, y_train)\n",
    "\n",
    "''' prediction '''\n",
    "results = model.predict(X_test)"
   ]
  },
  {
   "cell_type": "code",
   "execution_count": 28,
   "metadata": {},
   "outputs": [
    {
     "name": "stdout",
     "output_type": "stream",
     "text": [
      "train Accuracy = 0.7227738845747991\n",
      "test Accuracy = 0.7153814935064935\n",
      "Confusion Matrix\n",
      "[[8440 3779]\n",
      " [3234 9187]]\n",
      "Classification Report\n",
      "              precision    recall  f1-score   support\n",
      "\n",
      "           0       0.72      0.69      0.71     12219\n",
      "           1       0.71      0.74      0.72     12421\n",
      "\n",
      "    accuracy                           0.72     24640\n",
      "   macro avg       0.72      0.72      0.72     24640\n",
      "weighted avg       0.72      0.72      0.72     24640\n",
      "\n"
     ]
    }
   ],
   "source": [
    "evaluation_fun()"
   ]
  },
  {
   "cell_type": "code",
   "execution_count": 29,
   "metadata": {},
   "outputs": [],
   "source": [
    "''' Gradient Boosting without hyper parameter tunning '''\n",
    "model = GradientBoostingClassifier()\n",
    "\n",
    "''' fit on data '''\n",
    "model.fit(X_train, y_train)\n",
    "\n",
    "''' prediction '''\n",
    "results = model.predict(X_test)"
   ]
  },
  {
   "cell_type": "code",
   "execution_count": 30,
   "metadata": {},
   "outputs": [
    {
     "name": "stdout",
     "output_type": "stream",
     "text": [
      "train Accuracy = 0.7021023296084851\n",
      "test Accuracy = 0.6996753246753247\n",
      "Confusion Matrix\n",
      "[[8126 4093]\n",
      " [3307 9114]]\n",
      "Classification Report\n",
      "              precision    recall  f1-score   support\n",
      "\n",
      "           0       0.71      0.67      0.69     12219\n",
      "           1       0.69      0.73      0.71     12421\n",
      "\n",
      "    accuracy                           0.70     24640\n",
      "   macro avg       0.70      0.70      0.70     24640\n",
      "weighted avg       0.70      0.70      0.70     24640\n",
      "\n"
     ]
    }
   ],
   "source": [
    "evaluation_fun()"
   ]
  },
  {
   "cell_type": "code",
   "execution_count": 31,
   "metadata": {},
   "outputs": [],
   "source": [
    "''' KNN with hyper parameter tunning '''\n",
    "model = KNeighborsClassifier(n_neighbors=5,weights='distance',p=1,metric='minkowski')\n",
    "\n",
    "''' fit on data '''\n",
    "model.fit(X_train, y_train)\n",
    "\n",
    "''' prediction '''\n",
    "results = model.predict(X_test)"
   ]
  },
  {
   "cell_type": "code",
   "execution_count": 32,
   "metadata": {},
   "outputs": [
    {
     "name": "stdout",
     "output_type": "stream",
     "text": [
      "train Accuracy = 0.8896750453204902\n",
      "test Accuracy = 0.7875\n",
      "Confusion Matrix\n",
      "[[ 8421  3798]\n",
      " [ 1438 10983]]\n",
      "Classification Report\n",
      "              precision    recall  f1-score   support\n",
      "\n",
      "           0       0.85      0.69      0.76     12219\n",
      "           1       0.74      0.88      0.81     12421\n",
      "\n",
      "    accuracy                           0.79     24640\n",
      "   macro avg       0.80      0.79      0.79     24640\n",
      "weighted avg       0.80      0.79      0.79     24640\n",
      "\n"
     ]
    }
   ],
   "source": [
    "evaluation_fun()"
   ]
  },
  {
   "cell_type": "code",
   "execution_count": 33,
   "metadata": {},
   "outputs": [],
   "source": [
    "''' ADA Boost with hyper parameter tunning '''\n",
    "model = AdaBoostClassifier(n_estimators= 9000)\n",
    "\n",
    "''' fit on data '''\n",
    "model.fit(X_train, y_train)\n",
    "\n",
    "''' prediction '''\n",
    "results = model.predict(X_test)"
   ]
  },
  {
   "cell_type": "code",
   "execution_count": 34,
   "metadata": {},
   "outputs": [
    {
     "name": "stdout",
     "output_type": "stream",
     "text": [
      "train Accuracy = 0.6956221759246732\n",
      "test Accuracy = 0.6969155844155844\n",
      "Confusion Matrix\n",
      "[[7987 4232]\n",
      " [3236 9185]]\n",
      "Classification Report\n",
      "              precision    recall  f1-score   support\n",
      "\n",
      "           0       0.71      0.65      0.68     12219\n",
      "           1       0.68      0.74      0.71     12421\n",
      "\n",
      "    accuracy                           0.70     24640\n",
      "   macro avg       0.70      0.70      0.70     24640\n",
      "weighted avg       0.70      0.70      0.70     24640\n",
      "\n"
     ]
    }
   ],
   "source": [
    "evaluation_fun()"
   ]
  },
  {
   "cell_type": "code",
   "execution_count": 35,
   "metadata": {},
   "outputs": [],
   "source": [
    "''' SVM '''\n",
    "model = SVC()\n",
    "\n",
    "''' fit on data '''\n",
    "model.fit(X_train, y_train)\n",
    "\n",
    "''' prediction '''\n",
    "results = model.predict(X_test)"
   ]
  },
  {
   "cell_type": "code",
   "execution_count": 36,
   "metadata": {},
   "outputs": [
    {
     "name": "stdout",
     "output_type": "stream",
     "text": [
      "train Accuracy = 0.6655888958034579\n",
      "test Accuracy = 0.6689123376623377\n",
      "Confusion Matrix\n",
      "[[6939 5280]\n",
      " [2878 9543]]\n",
      "Classification Report\n",
      "              precision    recall  f1-score   support\n",
      "\n",
      "           0       0.71      0.57      0.63     12219\n",
      "           1       0.64      0.77      0.70     12421\n",
      "\n",
      "    accuracy                           0.67     24640\n",
      "   macro avg       0.68      0.67      0.67     24640\n",
      "weighted avg       0.68      0.67      0.67     24640\n",
      "\n"
     ]
    }
   ],
   "source": [
    "evaluation_fun()"
   ]
  }
 ],
 "metadata": {
  "kernelspec": {
   "display_name": "Python 3",
   "language": "python",
   "name": "python3"
  },
  "language_info": {
   "codemirror_mode": {
    "name": "ipython",
    "version": 3
   },
   "file_extension": ".py",
   "mimetype": "text/x-python",
   "name": "python",
   "nbconvert_exporter": "python",
   "pygments_lexer": "ipython3",
   "version": "3.9.13"
  }
 },
 "nbformat": 4,
 "nbformat_minor": 4
}
